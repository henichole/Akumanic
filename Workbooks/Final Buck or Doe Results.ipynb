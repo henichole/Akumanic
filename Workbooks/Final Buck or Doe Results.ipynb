{
 "cells": [
  {
   "cell_type": "code",
   "execution_count": null,
   "metadata": {},
   "outputs": [],
   "source": [
    "!pip install torch torchvision torchaudio\n",
    "!pip install matplotlib\n",
    "!pip install opencv-python"
   ]
  },
  {
   "cell_type": "code",
   "execution_count": null,
   "metadata": {},
   "outputs": [],
   "source": [
    "import torch\n",
    "import os\n",
    "from PIL import Image\n",
    "\n",
    "# Load the model\n",
    "model = torch.hub.load('ultralytics/yolov5', 'custom', path='best.pt')  \n",
    "\n",
    "# Define the path to the images directory\n",
    "images_directory = 'database'\n",
    "output_directory = 'database_results'\n",
    "\n",
    "# Create the output directory if it doesn't exist\n",
    "if not os.path.exists(output_directory):\n",
    "    os.makedirs(output_directory)\n",
    "\n",
    "# List all files in the directory\n",
    "image_files = [os.path.join(images_directory, file) for file in os.listdir(images_directory) if file.endswith(('.jpg', '.png', '.jpeg'))]\n",
    "\n",
    "# Perform inference on each image\n",
    "for image_path in image_files:\n",
    "    # Load your image\n",
    "    img = Image.open(image_path)\n",
    "    \n",
    "    # Perform inference\n",
    "    results = model(img)\n",
    "\n",
    "    # Display the image with bounding boxes and labels\n",
    "    results.show()\n",
    "    \n",
    "    # Save the results\n",
    "    save_path = os.path.join(output_directory, os.path.basename(image_path))\n",
    "    results.save(save_dir=save_path)\n",
    "\n",
    "    # To get the bounding box coordinates, confidence and class\n",
    "    for *xyxy, conf, cls in results.xyxy[0]:\n",
    "        print(f'Coordinates: {xyxy}, Confidence: {conf}, Class: {cls}')\n",
    "\n",
    "\n"
   ]
  },
  {
   "cell_type": "markdown",
   "metadata": {},
   "source": [
    "This is the end of the project! "
   ]
  }
 ],
 "metadata": {
  "kernelspec": {
   "display_name": "base",
   "language": "python",
   "name": "python3"
  },
  "language_info": {
   "codemirror_mode": {
    "name": "ipython",
    "version": 3
   },
   "file_extension": ".py",
   "mimetype": "text/x-python",
   "name": "python",
   "nbconvert_exporter": "python",
   "pygments_lexer": "ipython3",
   "version": "3.11.5"
  }
 },
 "nbformat": 4,
 "nbformat_minor": 2
}
