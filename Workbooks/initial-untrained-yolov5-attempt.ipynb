{
 "cells": [
  {
   "cell_type": "markdown",
   "metadata": {},
   "source": [
    "> First Attemps of the Untrained YOLOv5"
   ]
  },
  {
   "cell_type": "markdown",
   "metadata": {},
   "source": [
    "This is the initial atttempt to recognize different types of deer or animals in images without doing any training. "
   ]
  },
  {
   "cell_type": "code",
   "execution_count": null,
   "metadata": {},
   "outputs": [],
   "source": [
    "import torch\n",
    "import os\n",
    "from PIL import Image\n",
    "from matplotlib import pyplot as plt\n",
    "\n",
    "# Load YOLOv5 model\n",
    "model = torch.hub.load('ultralytics/yolov5', 'yolov5s', pretrained=True)\n",
    "\n",
    "# Directories\n",
    "input_folder = 'database'\n",
    "output_folder = 'database_annotated'\n",
    "os.makedirs(output_folder, exist_ok=True)\n",
    "\n",
    "# List all files in the input folder\n",
    "files = os.listdir(input_folder)\n",
    "\n",
    "# Process each file\n",
    "for file in files:\n",
    "    file_path = os.path.join(input_folder, file)\n",
    "\n",
    "    # Check if the file is an image\n",
    "    if file.lower().endswith(('.png', '.jpg', '.jpeg')):\n",
    "        print(f\"Processing {file}...\")\n",
    "\n",
    "        # Perform inference\n",
    "        results = model(file_path)\n",
    "\n",
    "        # Save the annotated image in the output folder\n",
    "        save_path = os.path.join(output_folder, file)\n",
    "        results.save(save_dir=output_folder)\n",
    "\n",
    "        print(f\"Saved annotated image to {save_path}\")\n",
    "\n",
    "        # Optional: Display the image (comment out for batch processing)\n",
    "        # annotated_image_path = os.path.join(output_folder, file)\n",
    "        # plt.imshow(Image.open(annotated_image_path))\n",
    "        # plt.show()\n",
    "\n",
    "print(\"Processing complete.\")"
   ]
  },
  {
   "cell_type": "markdown",
   "metadata": {},
   "source": [
    "The training set has very low accuracy."
   ]
  },
  {
   "cell_type": "code",
   "execution_count": null,
   "metadata": {},
   "outputs": [],
   "source": [
    "import os\n",
    "print(os.getcwd())\n"
   ]
  },
  {
   "cell_type": "code",
   "execution_count": null,
   "metadata": {},
   "outputs": [],
   "source": [
    "# %cd /hidden-file-path/Roadside-Animal-Detection-Project\n"
   ]
  },
  {
   "cell_type": "code",
   "execution_count": null,
   "metadata": {},
   "outputs": [],
   "source": [
    "!python yolov5/train.py --img 640 --batch 16 --epochs 50 --data data.yaml --cfg yolov5s.yaml --weights yolov5s.pt --name deer_yolov5s_results\n"
   ]
  },
  {
   "cell_type": "markdown",
   "metadata": {},
   "source": [
    "The results are funny to look at, see the results folder."
   ]
  }
 ],
 "metadata": {
  "kernelspec": {
   "display_name": "base",
   "language": "python",
   "name": "python3"
  },
  "language_info": {
   "codemirror_mode": {
    "name": "ipython",
    "version": 3
   },
   "file_extension": ".py",
   "mimetype": "text/x-python",
   "name": "python",
   "nbconvert_exporter": "python",
   "pygments_lexer": "ipython3",
   "version": "3.11.5"
  }
 },
 "nbformat": 4,
 "nbformat_minor": 2
}
