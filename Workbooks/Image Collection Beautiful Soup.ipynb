{
 "cells": [
  {
   "cell_type": "markdown",
   "metadata": {},
   "source": [
    ">"
   ]
  },
  {
   "cell_type": "markdown",
   "metadata": {},
   "source": [
    ">Image Collection - Beautiful Soup\n",
    "\n",
    "Here is a demonstration of one of my image collection approaches - I've collected a few BC Deer images from Alamy - an image website, the keywords I used: Vancouver island deer Stock Photo and Images "
   ]
  },
  {
   "cell_type": "code",
   "execution_count": 3,
   "metadata": {},
   "outputs": [],
   "source": [
    "# Import Libraries\n",
    "import requests\n",
    "from bs4 import BeautifulSoup"
   ]
  },
  {
   "cell_type": "code",
   "execution_count": 4,
   "metadata": {},
   "outputs": [],
   "source": [
    "# Send a Request to the Website\n",
    "url = 'https://www.alamy.com/stock-photo/vancouver-island-deer.html?sortBy=relevant'  \n",
    "response = requests.get(url)\n"
   ]
  },
  {
   "cell_type": "code",
   "execution_count": 5,
   "metadata": {},
   "outputs": [],
   "source": [
    "# Parse the Webpage with BeautifulSoup\n",
    "soup = BeautifulSoup(response.text, 'html.parser')\n"
   ]
  },
  {
   "cell_type": "code",
   "execution_count": 6,
   "metadata": {},
   "outputs": [],
   "source": [
    "# Find Image Tags\n",
    "images = soup.find_all('img')\n"
   ]
  },
  {
   "cell_type": "code",
   "execution_count": 7,
   "metadata": {},
   "outputs": [],
   "source": [
    "# Extract Image URLs\n",
    "image_urls = [img['src'] for img in images if 'src' in img.attrs]\n"
   ]
  },
  {
   "cell_type": "code",
   "execution_count": 8,
   "metadata": {},
   "outputs": [],
   "source": [
    "# Download Images\n",
    "for i, url in enumerate(image_urls):\n",
    "    try:\n",
    "        img_response = requests.get(url)\n",
    "        with open(f\"deer_image_{i}.jpg\", 'wb') as file:\n",
    "            file.write(img_response.content)\n",
    "    except Exception as e:\n",
    "        print(f\"Error downloading {url}: {e}\")\n"
   ]
  },
  {
   "cell_type": "code",
   "execution_count": 9,
   "metadata": {},
   "outputs": [
    {
     "name": "stdout",
     "output_type": "stream",
     "text": [
      "c:\\Users\\henic\\OneDrive\\Desktop\n"
     ]
    }
   ],
   "source": [
    "# Check where did I save the images\n",
    "import os\n",
    "print(os.getcwd())\n"
   ]
  }
 ],
 "metadata": {
  "kernelspec": {
   "display_name": "base",
   "language": "python",
   "name": "python3"
  },
  "language_info": {
   "codemirror_mode": {
    "name": "ipython",
    "version": 3
   },
   "file_extension": ".py",
   "mimetype": "text/x-python",
   "name": "python",
   "nbconvert_exporter": "python",
   "pygments_lexer": "ipython3",
   "version": "3.11.5"
  }
 },
 "nbformat": 4,
 "nbformat_minor": 2
}
